{
 "cells": [
  {
   "cell_type": "markdown",
   "id": "973a6cdb",
   "metadata": {},
   "source": [
    "# Functions Lesson"
   ]
  },
  {
   "cell_type": "code",
   "execution_count": null,
   "id": "49b14f85",
   "metadata": {},
   "outputs": [
    {
     "name": "stdout",
     "output_type": "stream",
     "text": [
      "I am Ramsis,\n",
      "King of Egypt\n"
     ]
    }
   ],
   "source": [
    "def message():\n",
    "    print(\"I am Ramsis,\")\n",
    "    print(\"King of Egypt\")\n",
    "    \n",
    "message()"
   ]
  },
  {
   "cell_type": "code",
   "execution_count": 2,
   "id": "a28be0ce",
   "metadata": {},
   "outputs": [
    {
     "name": "stdout",
     "output_type": "stream",
     "text": [
      "I have a message for you.\n",
      "I am Ramsis,\n",
      "King of Egypt\n",
      "Goodbye!\n"
     ]
    }
   ],
   "source": [
    "def main():\n",
    "    print(\"I have a message for you.\")\n",
    "    message()\n",
    "    print(\"Goodbye!\")\n",
    "    \n",
    "def message():\n",
    "    print(\"I am Ramsis,\")\n",
    "    print(\"King of Egypt\")\n",
    "    \n",
    "main()\n",
    "    "
   ]
  },
  {
   "cell_type": "code",
   "execution_count": 7,
   "id": "2665055c",
   "metadata": {},
   "outputs": [
    {
     "name": "stdout",
     "output_type": "stream",
     "text": [
      "result = 10\n"
     ]
    }
   ],
   "source": [
    "def main():\n",
    "    value = 5\n",
    "    show_double(value)\n",
    "    \n",
    "def show_double(number):\n",
    "    result = number * 2\n",
    "    print(\"result =\", result)\n",
    "    \n",
    "main()"
   ]
  },
  {
   "cell_type": "code",
   "execution_count": 10,
   "id": "f49f1892",
   "metadata": {},
   "outputs": [
    {
     "name": "stdout",
     "output_type": "stream",
     "text": [
      "result = 48\n"
     ]
    }
   ],
   "source": [
    "def main():\n",
    "    value = int(input(\"Enter Value\"))\n",
    "    show_double(value)\n",
    "    \n",
    "def show_double(number):\n",
    "    result = number * 2\n",
    "    print(\"result =\", result)\n",
    "    \n",
    "main()"
   ]
  },
  {
   "cell_type": "code",
   "execution_count": 13,
   "id": "cd97a5c2",
   "metadata": {},
   "outputs": [
    {
     "name": "stdout",
     "output_type": "stream",
     "text": [
      "The sum is 40\n"
     ]
    }
   ],
   "source": [
    "def main():\n",
    "    x = int(input(\"Enter Value\"))\n",
    "    y = int(input(\"Enter Value\"))\n",
    "    sum(x,y)\n",
    "    \n",
    "def sum(number1,number2):\n",
    "    total = number1 + number2\n",
    "    print(\"The sum is\",total)\n",
    "\n",
    "main()"
   ]
  },
  {
   "cell_type": "code",
   "execution_count": 21,
   "id": "fb984f88",
   "metadata": {},
   "outputs": [
    {
     "name": "stdout",
     "output_type": "stream",
     "text": [
      "sum is 40\n"
     ]
    }
   ],
   "source": [
    "def main():\n",
    "    x = int(input(\"Enter Value\"))\n",
    "    y = int(input(\"Enter Value\"))\n",
    "    print(f\"sum is {sum(x,y)}\")\n",
    "    \n",
    "def sum(number1,number2):\n",
    "    total = number1 + number2\n",
    "    return total\n",
    "\n",
    "main()"
   ]
  },
  {
   "cell_type": "code",
   "execution_count": 24,
   "id": "c18fcbe9",
   "metadata": {},
   "outputs": [
    {
     "name": "stdout",
     "output_type": "stream",
     "text": [
      "The sum is 30\n",
      "The difference is -10\n",
      "The multiplication is 200\n",
      "The division is 0.5\n"
     ]
    }
   ],
   "source": [
    "def main():\n",
    "    x = int(input(\"Enter Value\"))\n",
    "    y = int(input(\"Enter Value\"))\n",
    "    \n",
    "    show_sum(x,y)\n",
    "    show_diff(x,y)\n",
    "    show_multi(x,y)\n",
    "    show_div(x,y)\n",
    "    \n",
    "def show_sum(number1,number2):\n",
    "    total = number1 + number2\n",
    "    print(\"The sum is\",total)\n",
    "    \n",
    "def show_diff(number1,number2):\n",
    "    diff = number1 - number2\n",
    "    print(\"The difference is\",diff)\n",
    "    \n",
    "def show_multi(number1,number2):\n",
    "    multi = number1 * number2\n",
    "    print(\"The multiplication is\",multi)\n",
    "    \n",
    "def show_div(number1,number2):\n",
    "    div = number1 / number2\n",
    "    print(\"The division is\",div)\n",
    "    \n",
    "main()"
   ]
  },
  {
   "cell_type": "code",
   "execution_count": null,
   "id": "d668ca19",
   "metadata": {},
   "outputs": [],
   "source": []
  }
 ],
 "metadata": {
  "kernelspec": {
   "display_name": "base",
   "language": "python",
   "name": "python3"
  },
  "language_info": {
   "codemirror_mode": {
    "name": "ipython",
    "version": 3
   },
   "file_extension": ".py",
   "mimetype": "text/x-python",
   "name": "python",
   "nbconvert_exporter": "python",
   "pygments_lexer": "ipython3",
   "version": "3.11.3"
  }
 },
 "nbformat": 4,
 "nbformat_minor": 5
}
